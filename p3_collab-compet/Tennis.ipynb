{
 "cells": [
  {
   "cell_type": "markdown",
   "metadata": {},
   "source": [
    "# Collaboration and Competition\n",
    "\n",
    "---\n",
    "\n",
    "You are welcome to use this coding environment to train your agent for the project.  Follow the instructions below to get started!\n",
    "\n",
    "### 1. Start the Environment\n",
    "\n",
    "Run the next code cell to install a few packages.  This line will take a few minutes to run!"
   ]
  },
  {
   "cell_type": "code",
   "execution_count": 1,
   "metadata": {},
   "outputs": [
    {
     "name": "stdout",
     "output_type": "stream",
     "text": [
      "\u001b[31mtensorflow 1.7.1 has requirement numpy>=1.13.3, but you'll have numpy 1.12.1 which is incompatible.\u001b[0m\r\n",
      "\u001b[31mipython 6.5.0 has requirement prompt-toolkit<2.0.0,>=1.0.15, but you'll have prompt-toolkit 3.0.18 which is incompatible.\u001b[0m\r\n"
     ]
    }
   ],
   "source": [
    "!pip -q install ./python"
   ]
  },
  {
   "cell_type": "markdown",
   "metadata": {},
   "source": [
    "The environment is already saved in the Workspace and can be accessed at the file path provided below. "
   ]
  },
  {
   "cell_type": "code",
   "execution_count": 2,
   "metadata": {},
   "outputs": [],
   "source": [
    "from unityagents import UnityEnvironment\n",
    "import numpy as np\n",
    "from maddpg_agent import Agent\n",
    "from collections import deque\n",
    "import matplotlib.pyplot as plt\n",
    "import torch\n",
    "from workspace_utils import active_session"
   ]
  },
  {
   "cell_type": "code",
   "execution_count": 3,
   "metadata": {},
   "outputs": [
    {
     "name": "stderr",
     "output_type": "stream",
     "text": [
      "INFO:unityagents:\n",
      "'Academy' started successfully!\n",
      "Unity Academy name: Academy\n",
      "        Number of Brains: 1\n",
      "        Number of External Brains : 1\n",
      "        Lesson number : 0\n",
      "        Reset Parameters :\n",
      "\t\t\n",
      "Unity brain name: TennisBrain\n",
      "        Number of Visual Observations (per agent): 0\n",
      "        Vector Observation space type: continuous\n",
      "        Vector Observation space size (per agent): 8\n",
      "        Number of stacked Vector Observation: 3\n",
      "        Vector Action space type: continuous\n",
      "        Vector Action space size (per agent): 2\n",
      "        Vector Action descriptions: , \n"
     ]
    }
   ],
   "source": [
    "env = UnityEnvironment(file_name=\"/data/Tennis_Linux_NoVis/Tennis\")"
   ]
  },
  {
   "cell_type": "markdown",
   "metadata": {},
   "source": [
    "Environments contain **_brains_** which are responsible for deciding the actions of their associated agents. Here we check for the first brain available, and set it as the default brain we will be controlling from Python."
   ]
  },
  {
   "cell_type": "code",
   "execution_count": 4,
   "metadata": {},
   "outputs": [],
   "source": [
    "# get the default brain\n",
    "brain_name = env.brain_names[0]\n",
    "brain = env.brains[brain_name]"
   ]
  },
  {
   "cell_type": "markdown",
   "metadata": {},
   "source": [
    "### 2. Examine the State and Action Spaces\n",
    "\n",
    "Run the code cell below to print some information about the environment."
   ]
  },
  {
   "cell_type": "code",
   "execution_count": 5,
   "metadata": {},
   "outputs": [
    {
     "name": "stdout",
     "output_type": "stream",
     "text": [
      "Number of agents: 2\n",
      "Size of each action: 2\n",
      "There are 2 agents. Each observes a state with length: 24\n",
      "The state for the first agent looks like: [ 0.          0.          0.          0.          0.          0.          0.\n",
      "  0.          0.          0.          0.          0.          0.          0.\n",
      "  0.          0.         -6.65278625 -1.5        -0.          0.\n",
      "  6.83172083  6.         -0.          0.        ]\n"
     ]
    }
   ],
   "source": [
    "# reset the environment\n",
    "env_info = env.reset(train_mode=True)[brain_name]\n",
    "\n",
    "# number of agents \n",
    "num_agents = len(env_info.agents)\n",
    "print('Number of agents:', num_agents)\n",
    "\n",
    "# size of each action\n",
    "action_size = brain.vector_action_space_size\n",
    "print('Size of each action:', action_size)\n",
    "\n",
    "# examine the state space \n",
    "states = env_info.vector_observations\n",
    "state_size = states.shape[1]\n",
    "print('There are {} agents. Each observes a state with length: {}'.format(states.shape[0], state_size))\n",
    "print('The state for the first agent looks like:', states[0])"
   ]
  },
  {
   "cell_type": "markdown",
   "metadata": {},
   "source": [
    "### 3. Take Random Actions in the Environment\n",
    "\n",
    "In the next code cell, you will learn how to use the Python API to control the agent and receive feedback from the environment.\n",
    "\n",
    "Note that **in this coding environment, you will not be able to watch the agents while they are training**, and you should set `train_mode=True` to restart the environment."
   ]
  },
  {
   "cell_type": "code",
   "execution_count": 6,
   "metadata": {},
   "outputs": [],
   "source": [
    "# for i in range(5):                                         # play game for 5 episodes\n",
    "#     env_info = env.reset(train_mode=False)[brain_name]     # reset the environment    \n",
    "#     states = env_info.vector_observations                  # get the current state (for each agent)\n",
    "#     scores = np.zeros(num_agents)                          # initialize the score (for each agent)\n",
    "#     while True:\n",
    "#         actions = np.random.randn(num_agents, action_size) # select an action (for each agent)\n",
    "#         actions = np.clip(actions, -1, 1)                  # all actions between -1 and 1\n",
    "#         env_info = env.step(actions)[brain_name]           # send all actions to tne environment\n",
    "#         next_states = env_info.vector_observations         # get next state (for each agent)\n",
    "#         rewards = env_info.rewards                         # get reward (for each agent)\n",
    "#         dones = env_info.local_done                        # see if episode finished\n",
    "#         scores += env_info.rewards                         # update the score (for each agent)\n",
    "#         states = next_states                               # roll over states to next time step\n",
    "#         if np.any(dones):                                  # exit loop if episode finished\n",
    "#             break\n",
    "#     print('Total score (averaged over agents) this episode: {}'.format(np.mean(scores)))"
   ]
  },
  {
   "cell_type": "markdown",
   "metadata": {},
   "source": [
    "When finished, you can close the environment."
   ]
  },
  {
   "cell_type": "code",
   "execution_count": 7,
   "metadata": {},
   "outputs": [],
   "source": [
    "# env.close()"
   ]
  },
  {
   "cell_type": "markdown",
   "metadata": {},
   "source": [
    "### 4. It's Your Turn!\n",
    "\n",
    "Now it's your turn to train your own agent to solve the environment!  A few **important notes**:\n",
    "- When training the environment, set `train_mode=True`, so that the line for resetting the environment looks like the following:\n",
    "```python\n",
    "env_info = env.reset(train_mode=True)[brain_name]\n",
    "```\n",
    "- To structure your work, you're welcome to work directly in this Jupyter notebook, or you might like to start over with a new file!  You can see the list of files in the workspace by clicking on **_Jupyter_** in the top left corner of the notebook.\n",
    "- In this coding environment, you will not be able to watch the agents while they are training.  However, **_after training the agents_**, you can download the saved model weights to watch the agents on your own machine! "
   ]
  },
  {
   "cell_type": "markdown",
   "metadata": {},
   "source": [
    "### My Implementaion\n",
    "\n",
    "#### Design Story\n",
    "\n",
    "I based my solution to this project off of my previous project 2 submission. I think it really hit me on this project, how the deep reinforcement learning structure is built out. This project went a lot smoother than the previous one. I began with the implementation of the MADDPG discussed in class, with some minor adjustments for monitoring the success conditions and exiting once those were met. Once I cleared up a few syntax bugs, everything ran very smoothly, including getting some really high reward scores at the end of the training.\n",
    "\n",
    "### Model \n",
    "\n",
    "##### Agents \n",
    "The agent model contained 3 fully connected layers, each of which are activated with a RELU function, with the exception of the final layer which is activated by a tanh. \n",
    "\n",
    "Layers  \n",
    "  Input: The state size, in this case 24  \n",
    "  FC1: 256 Nodes  \n",
    "  FC2: 128 Nodes  \n",
    "  Output: 2 Nodes  \n",
    "  \n",
    "##### Critics \n",
    "The agent model contained 3 fully connected layers, each of which are activated with a RELU function, with the exception of the concatenation layer which pulls in the action state.\n",
    "\n",
    "Layers  \n",
    "  Input: The state size, in this case 24  \n",
    "  FC1: 256 Nodes  \n",
    "  FC2: 128 Nodes  \n",
    "  Output: 1 Node  \n",
    "  \n",
    "#### Hyper Parameters \n",
    "\n",
    "Number of Episodes: Unknown, set to terminate after hitting 100 0.5+ episodes or hitting 2000 total episodes  \n",
    "Max Time Steps: 1000  \n",
    "Replay Buffer Size: int(1e6)  \n",
    "Mini Batch Size: 128  \n",
    "Discount Factor: 0.99  \n",
    "Actor Learning rate: 1e-3  \n",
    "Critic Learning rate: 1e-3  \n",
    "Critic Weight Decay: 0  \n",
    "Volatility Parameter: 0.2     \n",
    "Speed of Mean Reversion: 0.15  \n",
    "Noise Multiplier: 1.0  \n",
    "Noise Multiplyer Reduction Rate: 1e-6  \n",
    "\n",
    "#### Learning Algorithm\n",
    " \n",
    "For this project I implemented a Multi-Agent Deep Deterministic Policy Gradient like we learned in this section of the course. I feel like spending so much time on the previous project prepared me for this one really well. Much of my implementaion was recycled from that project, with the exception of having multiple agents in this case. Without using a batch normalizing layer as I did in the previous project, the learning speed was much more managable. \n",
    "\n",
    "Each episode is executed by gathering the current state, reseting the 2 agents. Then we enter a loop where the agents take action based on the state until we register a positive done enviornment var. Once we exit the loop, we take the maximum of the agents rewards and log them along with incrementing the moving average. Once we have achieved an average of over 0.5 reward score over 100 iterations, the training terminates and  "
   ]
  },
  {
   "cell_type": "code",
   "execution_count": 8,
   "metadata": {},
   "outputs": [],
   "source": [
    "def maddpg(n_episodes=2000, max_t=1000, sw_cnt=100):\n",
    "    \"\"\"Multi-Agent Deep Deterministic Policy Gradient (MADDPG)\n",
    "    \n",
    "    Params\n",
    "    ======\n",
    "        n_episodes     : maximum number of training episodes\n",
    "        max_t          : maximum number of timesteps per episode\n",
    "        sw_cnt         : score window max length\n",
    "\n",
    "    \"\"\"\n",
    "    scores_window = deque(maxlen=sw_cnt)\n",
    "    scores_final = []\n",
    "    exit_scores = []\n",
    "    exit_average = []\n",
    "    moving_average = []\n",
    "    start_counting = False  \n",
    "    avg_episodes = 0\n",
    "\n",
    "    for i_episode in range(1, n_episodes+1):\n",
    "        env_info = env.reset(train_mode=True)[brain_name]\n",
    "        states = np.reshape(env_info.vector_observations, (1,48)) \n",
    "        agent1.reset()\n",
    "        agent2.reset()\n",
    "        scores = np.zeros(num_agents)\n",
    "        \n",
    "        for timestamp in range(0, max_t):\n",
    "            actions = np.concatenate((agent1.act(states,True), agent2.act(states,True)), axis=0).flatten()\n",
    "            env_info = env.step(actions)[brain_name]\n",
    "            next_states = np.reshape(env_info.vector_observations, (1, 48))\n",
    "            rewards = env_info.rewards                       \n",
    "            done = env_info.local_done                        \n",
    "            \n",
    "            agent1.step(states, actions, rewards[0], next_states, done, 0)\n",
    "            agent2.step(states, actions, rewards[1], next_states, done, 1) \n",
    "            scores += np.max(rewards)                      \n",
    "            states = next_states                               \n",
    "            if np.any(done): break\n",
    "\n",
    "        score = np.max(scores)\n",
    "        scores_window.append(score)\n",
    "        scores_final.append(score)\n",
    "        moving_average.append(np.mean(scores_window))\n",
    "\n",
    "        if score > 0.5:\n",
    "            if not start_counting: \n",
    "                print('Starting...')\n",
    "                start_counting = True\n",
    "                exit_scores = [] \n",
    "                exit_average = []\n",
    "        elif start_counting and exit_average[-1] < 0.5: \n",
    "            start_counting = False\n",
    "            print('Ending...')\n",
    "            print('Hit good average for: ' + str(len(exit_average)) + ' Iterations\\n')\n",
    "            \n",
    "        \n",
    "        if start_counting:\n",
    "            exit_scores.append(score)\n",
    "            exit_average.append(np.mean(exit_scores))\n",
    "            if i_episode % 10 == 0:\n",
    "                print('Episode: ' + str(i_episode) + '  Max Reward: ' + str(np.max(scores_final[-10:])) + '  Exit Average: ' + str(exit_average[-1]))\n",
    "            \n",
    "        if start_counting and i_episode % 5: \n",
    "            torch.save(agent1.actor_local.state_dict(), 'models/actor1.pth')\n",
    "            torch.save(agent1.critic_local.state_dict(), 'models/critic1.pth')\n",
    "            torch.save(agent2.actor_local.state_dict(), 'models/actor2.pth')\n",
    "            torch.save(agent2.critic_local.state_dict(), 'models/critic2.pth')\n",
    "        \n",
    "        if len(exit_average) >= 100: break\n",
    "\n",
    "    return scores_final, moving_average"
   ]
  },
  {
   "cell_type": "code",
   "execution_count": 9,
   "metadata": {
    "scrolled": true
   },
   "outputs": [
    {
     "name": "stdout",
     "output_type": "stream",
     "text": [
      "Starting...\n",
      "Ending...\n",
      "Hit good average for: 3 Iterations\n",
      "\n",
      "Starting...\n",
      "Episode: 530  Max Reward: 0.900000013411  Exit Average: 0.600000008941\n",
      "Ending...\n",
      "Hit good average for: 2 Iterations\n",
      "\n",
      "Starting...\n",
      "Episode: 540  Max Reward: 0.500000007451  Exit Average: 0.250000003725\n",
      "Ending...\n",
      "Hit good average for: 2 Iterations\n",
      "\n",
      "Starting...\n",
      "Ending...\n",
      "Hit good average for: 2 Iterations\n",
      "\n",
      "Starting...\n",
      "Episode: 640  Max Reward: 0.500000007451  Exit Average: 0.500000007451\n",
      "Ending...\n",
      "Hit good average for: 2 Iterations\n",
      "\n",
      "Starting...\n",
      "Ending...\n",
      "Hit good average for: 2 Iterations\n",
      "\n",
      "Starting...\n",
      "Ending...\n",
      "Hit good average for: 2 Iterations\n",
      "\n",
      "Starting...\n",
      "Ending...\n",
      "Hit good average for: 3 Iterations\n",
      "\n",
      "Starting...\n",
      "Ending...\n",
      "Hit good average for: 2 Iterations\n",
      "\n",
      "Starting...\n",
      "Ending...\n",
      "Hit good average for: 2 Iterations\n",
      "\n",
      "Starting...\n",
      "Ending...\n",
      "Hit good average for: 2 Iterations\n",
      "\n",
      "Starting...\n",
      "Episode: 780  Max Reward: 1.0000000149  Exit Average: 0.500000007451\n",
      "Ending...\n",
      "Hit good average for: 4 Iterations\n",
      "\n",
      "Starting...\n",
      "Ending...\n",
      "Hit good average for: 3 Iterations\n",
      "\n",
      "Starting...\n",
      "Ending...\n",
      "Hit good average for: 2 Iterations\n",
      "\n",
      "Starting...\n",
      "Ending...\n",
      "Hit good average for: 2 Iterations\n",
      "\n",
      "Starting...\n",
      "Ending...\n",
      "Hit good average for: 4 Iterations\n",
      "\n",
      "Starting...\n",
      "Episode: 900  Max Reward: 0.500000007451  Exit Average: 0.500000007451\n",
      "Ending...\n",
      "Hit good average for: 2 Iterations\n",
      "\n",
      "Starting...\n",
      "Ending...\n",
      "Hit good average for: 3 Iterations\n",
      "\n",
      "Starting...\n",
      "Ending...\n",
      "Hit good average for: 2 Iterations\n",
      "\n",
      "Starting...\n",
      "Ending...\n",
      "Hit good average for: 2 Iterations\n",
      "\n",
      "Starting...\n",
      "Episode: 980  Max Reward: 0.700000010431  Exit Average: 0.700000010431\n",
      "Ending...\n",
      "Hit good average for: 6 Iterations\n",
      "\n",
      "Starting...\n",
      "Episode: 990  Max Reward: 0.500000007451  Exit Average: 0.40000000596\n",
      "Ending...\n",
      "Hit good average for: 3 Iterations\n",
      "\n",
      "Starting...\n",
      "Ending...\n",
      "Hit good average for: 2 Iterations\n",
      "\n",
      "Starting...\n",
      "Episode: 1010  Max Reward: 0.600000008941  Exit Average: 0.600000008941\n",
      "Ending...\n",
      "Hit good average for: 5 Iterations\n",
      "\n",
      "Starting...\n",
      "Ending...\n",
      "Hit good average for: 2 Iterations\n",
      "\n",
      "Starting...\n",
      "Ending...\n",
      "Hit good average for: 2 Iterations\n",
      "\n",
      "Starting...\n",
      "Ending...\n",
      "Hit good average for: 4 Iterations\n",
      "\n",
      "Starting...\n",
      "Episode: 1040  Max Reward: 0.900000013411  Exit Average: 0.500000007451\n",
      "Episode: 1050  Max Reward: 2.0000000298  Exit Average: 0.542857150946\n",
      "Episode: 1060  Max Reward: 3.20000004768  Exit Average: 0.537500008009\n",
      "Ending...\n",
      "Hit good average for: 32 Iterations\n",
      "\n",
      "Starting...\n",
      "Ending...\n",
      "Hit good average for: 8 Iterations\n",
      "\n",
      "Starting...\n",
      "Ending...\n",
      "Hit good average for: 2 Iterations\n",
      "\n",
      "Starting...\n",
      "Episode: 1110  Max Reward: 1.70000002533  Exit Average: 0.575000008568\n",
      "Episode: 1120  Max Reward: 1.70000002533  Exit Average: 0.566666675111\n",
      "Episode: 1130  Max Reward: 1.20000001788  Exit Average: 0.528571436448\n",
      "Ending...\n",
      "Hit good average for: 36 Iterations\n",
      "\n",
      "Starting...\n",
      "Episode: 1150  Max Reward: 4.20000006258  Exit Average: 1.30000001937\n",
      "Episode: 1160  Max Reward: 1.20000001788  Exit Average: 0.866666679581\n",
      "Episode: 1170  Max Reward: 2.40000003576  Exit Average: 0.950000014156\n",
      "Episode: 1180  Max Reward: 2.20000003278  Exit Average: 0.910526329357\n",
      "Episode: 1190  Max Reward: 0.500000007451  Exit Average: 0.75208334454\n",
      "Episode: 1200  Max Reward: 3.30000004917  Exit Average: 0.803275874077\n",
      "Episode: 1210  Max Reward: 1.90000002831  Exit Average: 0.817500012215\n",
      "Episode: 1220  Max Reward: 2.29000003636  Exit Average: 0.880512833691\n",
      "Episode: 1230  Max Reward: 2.40000003576  Exit Average: 0.906590922651\n",
      "Episode: 1240  Max Reward: 5.20000007749  Exit Average: 1.02122450506\n"
     ]
    },
    {
     "data": {
      "image/png": "[encoded data removed]",
      "text/plain": [
       "<matplotlib.figure.Figure at 0x7f5e06303fd0>"
      ]
     },
     "metadata": {
      "needs_background": "light"
     },
     "output_type": "display_data"
    }
   ],
   "source": [
    "with active_session():\n",
    "    agent1 = Agent(state_size, action_size, agents=1, seed=0)\n",
    "    agent2 = Agent(state_size, action_size, agents=1, seed=0)\n",
    "\n",
    "    scores, avgs = maddpg()\n",
    "\n",
    "    fig = plt.figure()\n",
    "    ax = fig.add_subplot(111)\n",
    "    plt.plot(np.arange(len(scores)), scores, label='MADDPG')\n",
    "    plt.plot(np.arange(len(scores)), avgs, c='r', label='moving avg')\n",
    "    plt.ylabel('Score')\n",
    "    plt.xlabel('Episode #')\n",
    "    plt.legend(loc='upper left');\n",
    "    plt.show()"
   ]
  },
  {
   "cell_type": "markdown",
   "metadata": {},
   "source": [
    "### Future Steps\n",
    "\n",
    "In the future I would like to let this train for even longer. The model seems to be beginning a steep climb as it hit its goal rolling average. I ran out of time to do more testing, but would be curious to see if that climb is stable or if further training would be unstable. \n",
    "\n",
    "I would also like to try other model architectures if the above reveals an issue, since I have a fairly simple architecture as it stands. I am sure that a batch normalizing layer could improve performance like we saw in the previous project, but in the intrest of time, I did not implement it. \n",
    "\n",
    "Overall, this course has been a great experience for me. I have a lot of personal and work projects in mind that I could implememnt a Deep Reinforcement Solution for and I am excited to try."
   ]
  },
  {
   "cell_type": "code",
   "execution_count": null,
   "metadata": {},
   "outputs": [],
   "source": []
  }
 ],
 "metadata": {
  "kernelspec": {
   "display_name": "Python 3",
   "language": "python",
   "name": "python3"
  },
  "language_info": {
   "codemirror_mode": {
    "name": "ipython",
    "version": 3
   },
   "file_extension": ".py",
   "mimetype": "text/x-python",
   "name": "python",
   "nbconvert_exporter": "python",
   "pygments_lexer": "ipython3",
   "version": "3.6.3"
  }
 },
 "nbformat": 4,
 "nbformat_minor": 2
}
